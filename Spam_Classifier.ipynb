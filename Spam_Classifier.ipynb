{
 "cells": [
  {
   "cell_type": "code",
   "execution_count": 2,
   "id": "c91e51ee-1a3b-4883-8e40-83e55b446e76",
   "metadata": {},
   "outputs": [
    {
     "ename": "ImportError",
     "evalue": "cannot import name 'TfidVectorizer' from 'sklearn.feature_extraction.text' (C:\\Users\\GANPATI\\AppData\\Local\\Programs\\Python\\Python311\\Lib\\site-packages\\sklearn\\feature_extraction\\text.py)",
     "output_type": "error",
     "traceback": [
      "\u001b[1;31m---------------------------------------------------------------------------\u001b[0m",
      "\u001b[1;31mImportError\u001b[0m                               Traceback (most recent call last)",
      "Cell \u001b[1;32mIn[2], line 4\u001b[0m\n\u001b[0;32m      2\u001b[0m \u001b[38;5;28;01mimport\u001b[39;00m \u001b[38;5;21;01mnumpy\u001b[39;00m \u001b[38;5;28;01mas\u001b[39;00m \u001b[38;5;21;01mnp\u001b[39;00m\n\u001b[0;32m      3\u001b[0m \u001b[38;5;28;01mfrom\u001b[39;00m \u001b[38;5;21;01msklearn\u001b[39;00m\u001b[38;5;21;01m.\u001b[39;00m\u001b[38;5;21;01mmodel_selection\u001b[39;00m \u001b[38;5;28;01mimport\u001b[39;00m train_test_split\n\u001b[1;32m----> 4\u001b[0m \u001b[38;5;28;01mfrom\u001b[39;00m \u001b[38;5;21;01msklearn\u001b[39;00m\u001b[38;5;21;01m.\u001b[39;00m\u001b[38;5;21;01mfeature_extraction\u001b[39;00m\u001b[38;5;21;01m.\u001b[39;00m\u001b[38;5;21;01mtext\u001b[39;00m \u001b[38;5;28;01mimport\u001b[39;00m TfidVectorizer\n\u001b[0;32m      5\u001b[0m \u001b[38;5;28;01mfrom\u001b[39;00m \u001b[38;5;21;01msklearn\u001b[39;00m\u001b[38;5;21;01m.\u001b[39;00m\u001b[38;5;21;01mlinear_model\u001b[39;00m \u001b[38;5;28;01mimport\u001b[39;00m LogisticRegression\n\u001b[0;32m      6\u001b[0m \u001b[38;5;28;01mfrom\u001b[39;00m \u001b[38;5;21;01msklearn\u001b[39;00m\u001b[38;5;21;01m.\u001b[39;00m\u001b[38;5;21;01mmetrics\u001b[39;00m \u001b[38;5;28;01mimport\u001b[39;00m accuracy_score\n",
      "\u001b[1;31mImportError\u001b[0m: cannot import name 'TfidVectorizer' from 'sklearn.feature_extraction.text' (C:\\Users\\GANPATI\\AppData\\Local\\Programs\\Python\\Python311\\Lib\\site-packages\\sklearn\\feature_extraction\\text.py)"
     ]
    }
   ],
   "source": [
    "import pandas as pd\n",
    "import numpy as np\n",
    "from sklearn.model_selection import train_test_split\n",
    "from sklearn.feature_extraction.text import TfidVectorizer\n",
    "from sklearn.linear_model import LogisticRegression\n",
    "from sklearn.metrics import accuracy_score"
   ]
  },
  {
   "cell_type": "code",
   "execution_count": 2,
   "id": "b2489a6d-8726-459a-8a4d-b364bcd03914",
   "metadata": {},
   "outputs": [
    {
     "name": "stdout",
     "output_type": "stream",
     "text": [
      "Collecting sklearnNote: you may need to restart the kernel to use updated packages.\n",
      "\n",
      "  Downloading sklearn-0.0.post12.tar.gz (2.6 kB)\n",
      "  Installing build dependencies: started\n",
      "  Installing build dependencies: finished with status 'done'\n",
      "  Getting requirements to build wheel: started\n",
      "  Getting requirements to build wheel: finished with status 'error'\n"
     ]
    },
    {
     "name": "stderr",
     "output_type": "stream",
     "text": [
      "  error: subprocess-exited-with-error\n",
      "  \n",
      "  Getting requirements to build wheel did not run successfully.\n",
      "  exit code: 1\n",
      "  \n",
      "  [15 lines of output]\n",
      "  The 'sklearn' PyPI package is deprecated, use 'scikit-learn'\n",
      "  rather than 'sklearn' for pip commands.\n",
      "  \n",
      "  Here is how to fix this error in the main use cases:\n",
      "  - use 'pip install scikit-learn' rather than 'pip install sklearn'\n",
      "  - replace 'sklearn' by 'scikit-learn' in your pip requirements files\n",
      "    (requirements.txt, setup.py, setup.cfg, Pipfile, etc ...)\n",
      "  - if the 'sklearn' package is used by one of your dependencies,\n",
      "    it would be great if you take some time to track which package uses\n",
      "    'sklearn' instead of 'scikit-learn' and report it to their issue tracker\n",
      "  - as a last resort, set the environment variable\n",
      "    SKLEARN_ALLOW_DEPRECATED_SKLEARN_PACKAGE_INSTALL=True to avoid this error\n",
      "  \n",
      "  More information is available at\n",
      "  https://github.com/scikit-learn/sklearn-pypi-package\n",
      "  [end of output]\n",
      "  \n",
      "  note: This error originates from a subprocess, and is likely not a problem with pip.\n",
      "error: subprocess-exited-with-error\n",
      "\n",
      "Getting requirements to build wheel did not run successfully.\n",
      "exit code: 1\n",
      "\n",
      "See above for output.\n",
      "\n",
      "note: This error originates from a subprocess, and is likely not a problem with pip.\n",
      "\n",
      "[notice] A new release of pip is available: 23.1.2 -> 23.3.1\n",
      "[notice] To update, run: python.exe -m pip install --upgrade pip\n"
     ]
    }
   ],
   "source": [
    "pip install sklearn"
   ]
  },
  {
   "cell_type": "code",
   "execution_count": 3,
   "id": "32f278ee-99d6-4058-a743-ff5a97e7a593",
   "metadata": {},
   "outputs": [
    {
     "name": "stdout",
     "output_type": "stream",
     "text": [
      "Collecting scikit-learn\n",
      "  Downloading scikit_learn-1.3.2-cp311-cp311-win_amd64.whl (9.2 MB)\n",
      "                                              0.0/9.2 MB ? eta -:--:--\n",
      "                                              0.0/9.2 MB 1.4 MB/s eta 0:00:07\n",
      "                                              0.1/9.2 MB 1.1 MB/s eta 0:00:09\n",
      "                                              0.2/9.2 MB 1.4 MB/s eta 0:00:07\n",
      "     -                                        0.3/9.2 MB 1.6 MB/s eta 0:00:06\n",
      "     -                                        0.4/9.2 MB 1.5 MB/s eta 0:00:06\n",
      "     --                                       0.7/9.2 MB 2.2 MB/s eta 0:00:04\n",
      "     ----                                     1.1/9.2 MB 3.1 MB/s eta 0:00:03\n",
      "     ------                                   1.6/9.2 MB 4.0 MB/s eta 0:00:02\n",
      "     --------                                 2.0/9.2 MB 4.5 MB/s eta 0:00:02\n",
      "     --------                                 2.0/9.2 MB 4.5 MB/s eta 0:00:02\n",
      "     ---------                                2.3/9.2 MB 4.2 MB/s eta 0:00:02\n",
      "     ------------                             2.9/9.2 MB 4.9 MB/s eta 0:00:02\n",
      "     --------------                           3.4/9.2 MB 5.3 MB/s eta 0:00:02\n",
      "     ----------------                         3.7/9.2 MB 5.4 MB/s eta 0:00:02\n",
      "     ------------------                       4.3/9.2 MB 5.8 MB/s eta 0:00:01\n",
      "     ---------------------                    4.9/9.2 MB 6.3 MB/s eta 0:00:01\n",
      "     ----------------------                   5.2/9.2 MB 6.4 MB/s eta 0:00:01\n",
      "     ----------------------                   5.2/9.2 MB 6.4 MB/s eta 0:00:01\n",
      "     ----------------------                   5.2/9.2 MB 6.4 MB/s eta 0:00:01\n",
      "     ----------------------                   5.2/9.2 MB 6.4 MB/s eta 0:00:01\n",
      "     ----------------------                   5.2/9.2 MB 6.4 MB/s eta 0:00:01\n",
      "     ----------------------                   5.2/9.2 MB 6.4 MB/s eta 0:00:01\n",
      "     ----------------------                   5.2/9.2 MB 6.4 MB/s eta 0:00:01\n",
      "     ----------------------                   5.2/9.2 MB 6.4 MB/s eta 0:00:01\n",
      "     ----------------------                   5.2/9.2 MB 6.4 MB/s eta 0:00:01\n",
      "     ----------------------                   5.2/9.2 MB 4.4 MB/s eta 0:00:01\n",
      "     ----------------------                   5.2/9.2 MB 4.4 MB/s eta 0:00:01\n",
      "     ----------------------                   5.2/9.2 MB 3.9 MB/s eta 0:00:02\n",
      "     ----------------------                   5.2/9.2 MB 3.9 MB/s eta 0:00:02\n",
      "     ----------------------                   5.3/9.2 MB 3.8 MB/s eta 0:00:02\n",
      "     ----------------------                   5.3/9.2 MB 3.6 MB/s eta 0:00:02\n",
      "     -----------------------                  5.4/9.2 MB 3.5 MB/s eta 0:00:02\n",
      "     -----------------------                  5.4/9.2 MB 3.4 MB/s eta 0:00:02\n",
      "     ------------------------                 5.6/9.2 MB 3.5 MB/s eta 0:00:02\n",
      "     -------------------------                5.8/9.2 MB 3.5 MB/s eta 0:00:01\n",
      "     --------------------------               6.0/9.2 MB 3.5 MB/s eta 0:00:01\n",
      "     ---------------------------              6.3/9.2 MB 3.5 MB/s eta 0:00:01\n",
      "     ------------------------------           7.0/9.2 MB 3.8 MB/s eta 0:00:01\n",
      "     --------------------------------         7.5/9.2 MB 3.9 MB/s eta 0:00:01\n",
      "     -----------------------------------      8.1/9.2 MB 4.2 MB/s eta 0:00:01\n",
      "     -------------------------------------    8.7/9.2 MB 4.4 MB/s eta 0:00:01\n",
      "     ---------------------------------------  9.0/9.2 MB 4.5 MB/s eta 0:00:01\n",
      "     ---------------------------------------  9.0/9.2 MB 4.5 MB/s eta 0:00:01\n",
      "     ---------------------------------------  9.2/9.2 MB 4.4 MB/s eta 0:00:01\n",
      "     ---------------------------------------  9.2/9.2 MB 4.4 MB/s eta 0:00:01\n",
      "     ---------------------------------------- 9.2/9.2 MB 4.2 MB/s eta 0:00:00\n",
      "Requirement already satisfied: numpy<2.0,>=1.17.3 in c:\\users\\ganpati\\appdata\\local\\programs\\python\\python311\\lib\\site-packages (from scikit-learn) (1.25.2)\n",
      "Collecting scipy>=1.5.0 (from scikit-learn)\n",
      "  Downloading scipy-1.11.4-cp311-cp311-win_amd64.whl (44.1 MB)\n",
      "                                              0.0/44.1 MB ? eta -:--:--\n",
      "                                              0.9/44.1 MB 19.2 MB/s eta 0:00:03\n",
      "     -                                        1.5/44.1 MB 13.6 MB/s eta 0:00:04\n",
      "     -                                        2.0/44.1 MB 14.0 MB/s eta 0:00:04\n",
      "     --                                       2.5/44.1 MB 13.1 MB/s eta 0:00:04\n",
      "     --                                       3.0/44.1 MB 12.7 MB/s eta 0:00:04\n",
      "     ---                                      3.5/44.1 MB 13.0 MB/s eta 0:00:04\n",
      "     ---                                      4.0/44.1 MB 12.6 MB/s eta 0:00:04\n",
      "     ----                                     4.4/44.1 MB 12.9 MB/s eta 0:00:04\n",
      "     ----                                     5.0/44.1 MB 12.8 MB/s eta 0:00:04\n",
      "     -----                                    5.6/44.1 MB 12.4 MB/s eta 0:00:04\n",
      "     -----                                    6.2/44.1 MB 12.4 MB/s eta 0:00:04\n",
      "     ------                                   6.7/44.1 MB 12.2 MB/s eta 0:00:04\n",
      "     ------                                   6.8/44.1 MB 12.4 MB/s eta 0:00:04\n",
      "     ------                                   6.8/44.1 MB 12.4 MB/s eta 0:00:04\n",
      "     ------                                   6.8/44.1 MB 12.4 MB/s eta 0:00:04\n",
      "     ------                                   6.8/44.1 MB 12.4 MB/s eta 0:00:04\n",
      "     ------                                   6.8/44.1 MB 12.4 MB/s eta 0:00:04\n",
      "     ------                                   6.8/44.1 MB 6.7 MB/s eta 0:00:06\n",
      "     ------                                   6.9/44.1 MB 6.4 MB/s eta 0:00:06\n",
      "     ------                                   7.2/44.1 MB 5.9 MB/s eta 0:00:07\n",
      "     ------                                   7.4/44.1 MB 5.7 MB/s eta 0:00:07\n",
      "     ------                                   7.6/44.1 MB 5.7 MB/s eta 0:00:07\n",
      "     -------                                  7.8/44.1 MB 5.5 MB/s eta 0:00:07\n",
      "     -------                                  8.3/44.1 MB 5.6 MB/s eta 0:00:07\n",
      "     -------                                  8.7/44.1 MB 5.8 MB/s eta 0:00:07\n",
      "     --------                                 9.1/44.1 MB 5.8 MB/s eta 0:00:07\n",
      "     --------                                 9.5/44.1 MB 5.9 MB/s eta 0:00:06\n",
      "     ---------                                9.9/44.1 MB 6.1 MB/s eta 0:00:06\n",
      "     ---------                                10.4/44.1 MB 6.0 MB/s eta 0:00:06\n",
      "     ---------                                10.7/44.1 MB 6.0 MB/s eta 0:00:06\n",
      "     ----------                               11.2/44.1 MB 6.0 MB/s eta 0:00:06\n",
      "     ----------                               11.6/44.1 MB 5.9 MB/s eta 0:00:06\n",
      "     -----------                              12.2/44.1 MB 5.8 MB/s eta 0:00:06\n",
      "     -----------                              12.5/44.1 MB 5.8 MB/s eta 0:00:06\n",
      "     -----------                              13.0/44.1 MB 5.8 MB/s eta 0:00:06\n",
      "     ------------                             13.5/44.1 MB 5.7 MB/s eta 0:00:06\n",
      "     ------------                             14.0/44.1 MB 5.7 MB/s eta 0:00:06\n",
      "     -------------                            14.4/44.1 MB 5.7 MB/s eta 0:00:06\n",
      "     -------------                            14.9/44.1 MB 5.6 MB/s eta 0:00:06\n",
      "     -------------                            15.3/44.1 MB 5.6 MB/s eta 0:00:06\n",
      "     --------------                           15.7/44.1 MB 5.6 MB/s eta 0:00:06\n",
      "     --------------                           16.2/44.1 MB 5.6 MB/s eta 0:00:05\n",
      "     ---------------                          16.7/44.1 MB 5.5 MB/s eta 0:00:05\n",
      "     ---------------                          17.2/44.1 MB 8.1 MB/s eta 0:00:04\n",
      "     ---------------                          17.6/44.1 MB 8.6 MB/s eta 0:00:04\n",
      "     ----------------                         18.1/44.1 MB 9.5 MB/s eta 0:00:03\n",
      "     ----------------                         18.7/44.1 MB 9.5 MB/s eta 0:00:03\n",
      "     -----------------                        19.1/44.1 MB 9.6 MB/s eta 0:00:03\n",
      "     -----------------                        19.7/44.1 MB 9.5 MB/s eta 0:00:03\n",
      "     ------------------                       20.2/44.1 MB 9.5 MB/s eta 0:00:03\n",
      "     ------------------                       20.6/44.1 MB 9.6 MB/s eta 0:00:03\n",
      "     -------------------                      21.1/44.1 MB 9.6 MB/s eta 0:00:03\n",
      "     -------------------                      21.1/44.1 MB 9.6 MB/s eta 0:00:03\n",
      "     -------------------                      22.0/44.1 MB 9.4 MB/s eta 0:00:03\n",
      "     --------------------                     22.7/44.1 MB 9.4 MB/s eta 0:00:03\n",
      "     --------------------                     23.1/44.1 MB 9.2 MB/s eta 0:00:03\n",
      "     ---------------------                    23.4/44.1 MB 9.2 MB/s eta 0:00:03\n",
      "     ---------------------                    23.8/44.1 MB 9.0 MB/s eta 0:00:03\n",
      "     ---------------------                    24.2/44.1 MB 8.8 MB/s eta 0:00:03\n",
      "     ----------------------                   24.5/44.1 MB 8.7 MB/s eta 0:00:03\n",
      "     ----------------------                   24.9/44.1 MB 8.6 MB/s eta 0:00:03\n",
      "     ----------------------                   25.3/44.1 MB 8.7 MB/s eta 0:00:03\n",
      "     -----------------------                  25.8/44.1 MB 8.5 MB/s eta 0:00:03\n",
      "     -----------------------                  26.1/44.1 MB 8.5 MB/s eta 0:00:03\n",
      "     ------------------------                 26.5/44.1 MB 8.4 MB/s eta 0:00:03\n",
      "     ------------------------                 27.0/44.1 MB 8.3 MB/s eta 0:00:03\n",
      "     ------------------------                 27.3/44.1 MB 8.2 MB/s eta 0:00:03\n",
      "     -------------------------                27.6/44.1 MB 8.1 MB/s eta 0:00:03\n",
      "     -------------------------                28.1/44.1 MB 8.0 MB/s eta 0:00:03\n",
      "     -------------------------                28.5/44.1 MB 8.0 MB/s eta 0:00:02\n",
      "     --------------------------               28.9/44.1 MB 7.9 MB/s eta 0:00:02\n",
      "     --------------------------               29.6/44.1 MB 7.7 MB/s eta 0:00:02\n",
      "     ---------------------------              30.1/44.1 MB 7.7 MB/s eta 0:00:02\n",
      "     ---------------------------              30.8/44.1 MB 7.6 MB/s eta 0:00:02\n",
      "     ----------------------------             31.4/44.1 MB 8.0 MB/s eta 0:00:02\n",
      "     -----------------------------            32.1/44.1 MB 7.7 MB/s eta 0:00:02\n",
      "     -----------------------------            32.4/44.1 MB 7.6 MB/s eta 0:00:02\n",
      "     -----------------------------            32.8/44.1 MB 7.6 MB/s eta 0:00:02\n",
      "     ------------------------------           33.2/44.1 MB 7.6 MB/s eta 0:00:02\n",
      "     ------------------------------           33.5/44.1 MB 7.6 MB/s eta 0:00:02\n",
      "     ------------------------------           33.9/44.1 MB 7.7 MB/s eta 0:00:02\n",
      "     -------------------------------          34.4/44.1 MB 7.7 MB/s eta 0:00:02\n",
      "     -------------------------------          34.7/44.1 MB 7.8 MB/s eta 0:00:02\n",
      "     -------------------------------          35.1/44.1 MB 7.8 MB/s eta 0:00:02\n",
      "     --------------------------------         35.5/44.1 MB 7.8 MB/s eta 0:00:02\n",
      "     --------------------------------         35.8/44.1 MB 7.9 MB/s eta 0:00:02\n",
      "     --------------------------------         36.2/44.1 MB 7.9 MB/s eta 0:00:01\n",
      "     ---------------------------------        36.6/44.1 MB 7.9 MB/s eta 0:00:01\n",
      "     ---------------------------------        37.0/44.1 MB 8.0 MB/s eta 0:00:01\n",
      "     ---------------------------------        37.3/44.1 MB 7.9 MB/s eta 0:00:01\n",
      "     ----------------------------------       37.7/44.1 MB 8.0 MB/s eta 0:00:01\n",
      "     ----------------------------------       38.1/44.1 MB 8.0 MB/s eta 0:00:01\n",
      "     ----------------------------------       38.4/44.1 MB 8.0 MB/s eta 0:00:01\n",
      "     -----------------------------------      38.8/44.1 MB 8.0 MB/s eta 0:00:01\n",
      "     -----------------------------------      39.2/44.1 MB 8.2 MB/s eta 0:00:01\n",
      "     -----------------------------------      39.5/44.1 MB 8.1 MB/s eta 0:00:01\n",
      "     ------------------------------------     39.9/44.1 MB 8.1 MB/s eta 0:00:01\n",
      "     ------------------------------------     40.3/44.1 MB 8.1 MB/s eta 0:00:01\n",
      "     ------------------------------------     40.7/44.1 MB 8.1 MB/s eta 0:00:01\n",
      "     -------------------------------------    41.1/44.1 MB 8.2 MB/s eta 0:00:01\n",
      "     -------------------------------------    41.5/44.1 MB 8.0 MB/s eta 0:00:01\n",
      "     -------------------------------------    41.8/44.1 MB 8.1 MB/s eta 0:00:01\n",
      "     --------------------------------------   42.1/44.1 MB 8.2 MB/s eta 0:00:01\n",
      "     --------------------------------------   42.5/44.1 MB 8.2 MB/s eta 0:00:01\n",
      "     --------------------------------------   42.9/44.1 MB 8.2 MB/s eta 0:00:01\n",
      "     ---------------------------------------  43.3/44.1 MB 8.3 MB/s eta 0:00:01\n",
      "     ---------------------------------------  43.7/44.1 MB 8.3 MB/s eta 0:00:01\n",
      "     ---------------------------------------  44.0/44.1 MB 8.2 MB/s eta 0:00:01\n",
      "     ---------------------------------------  44.1/44.1 MB 8.3 MB/s eta 0:00:01\n",
      "     ---------------------------------------  44.1/44.1 MB 8.3 MB/s eta 0:00:01\n",
      "     ---------------------------------------  44.1/44.1 MB 8.3 MB/s eta 0:00:01\n",
      "     ---------------------------------------  44.1/44.1 MB 8.3 MB/s eta 0:00:01\n",
      "     ---------------------------------------  44.1/44.1 MB 8.3 MB/s eta 0:00:01\n",
      "     ---------------------------------------  44.1/44.1 MB 8.3 MB/s eta 0:00:01\n",
      "     ---------------------------------------  44.1/44.1 MB 8.3 MB/s eta 0:00:01\n",
      "     ---------------------------------------  44.1/44.1 MB 8.3 MB/s eta 0:00:01\n",
      "     ---------------------------------------  44.1/44.1 MB 8.3 MB/s eta 0:00:01\n",
      "     ---------------------------------------  44.1/44.1 MB 8.3 MB/s eta 0:00:01\n",
      "     ---------------------------------------  44.1/44.1 MB 8.3 MB/s eta 0:00:01\n",
      "     ---------------------------------------- 44.1/44.1 MB 5.6 MB/s eta 0:00:00\n",
      "Collecting joblib>=1.1.1 (from scikit-learn)\n",
      "  Downloading joblib-1.3.2-py3-none-any.whl (302 kB)\n",
      "                                              0.0/302.2 kB ? eta -:--:--\n",
      "     ------------------------------------- 302.2/302.2 kB 18.2 MB/s eta 0:00:00\n",
      "Collecting threadpoolctl>=2.0.0 (from scikit-learn)\n",
      "  Downloading threadpoolctl-3.2.0-py3-none-any.whl (15 kB)\n",
      "Installing collected packages: threadpoolctl, scipy, joblib, scikit-learn\n",
      "Successfully installed joblib-1.3.2 scikit-learn-1.3.2 scipy-1.11.4 threadpoolctl-3.2.0\n",
      "Note: you may need to restart the kernel to use updated packages.\n"
     ]
    },
    {
     "name": "stderr",
     "output_type": "stream",
     "text": [
      "\n",
      "[notice] A new release of pip is available: 23.1.2 -> 23.3.1\n",
      "[notice] To update, run: python.exe -m pip install --upgrade pip\n"
     ]
    }
   ],
   "source": [
    "pip install scikit-learn"
   ]
  },
  {
   "cell_type": "code",
   "execution_count": null,
   "id": "6cb5b373-21d4-416f-ab30-620db2d30821",
   "metadata": {},
   "outputs": [],
   "source": []
  },
  {
   "cell_type": "code",
   "execution_count": 3,
   "id": "214ee0df-5982-47b4-9b22-cffa15b79d8a",
   "metadata": {},
   "outputs": [],
   "source": [
    "import pandas as pd\n",
    "import numpy as np\n",
    "from sklearn.model_selection import train_test_split\n",
    "from sklearn.feature_extraction.text import TfidfVectorizer\n",
    "from sklearn.linear_model import LogisticRegression\n",
    "from sklearn.metrics import accuracy_score"
   ]
  },
  {
   "cell_type": "code",
   "execution_count": 4,
   "id": "bda57d03-3ec1-43a6-9a17-b96fb814bd44",
   "metadata": {},
   "outputs": [],
   "source": [
    "df = pd.read_csv('mail_data.csv')"
   ]
  },
  {
   "cell_type": "code",
   "execution_count": 7,
   "id": "bb702970-03cb-479d-be43-1ed2d5503ca3",
   "metadata": {},
   "outputs": [
    {
     "name": "stdout",
     "output_type": "stream",
     "text": [
      "     Category                                            Message\n",
      "0         ham  Go until jurong point, crazy.. Available only ...\n",
      "1         ham                      Ok lar... Joking wif u oni...\n",
      "2        spam  Free entry in 2 a wkly comp to win FA Cup fina...\n",
      "3         ham  U dun say so early hor... U c already then say...\n",
      "4         ham  Nah I don't think he goes to usf, he lives aro...\n",
      "...       ...                                                ...\n",
      "5567     spam  This is the 2nd time we have tried 2 contact u...\n",
      "5568      ham               Will ü b going to esplanade fr home?\n",
      "5569      ham  Pity, * was in mood for that. So...any other s...\n",
      "5570      ham  The guy did some bitching but I acted like i'd...\n",
      "5571      ham                         Rofl. Its true to its name\n",
      "\n",
      "[5572 rows x 2 columns]\n"
     ]
    }
   ],
   "source": [
    "print(df)"
   ]
  },
  {
   "cell_type": "code",
   "execution_count": 5,
   "id": "c965a28c-d589-47c9-8532-86c0e0e71b0a",
   "metadata": {},
   "outputs": [],
   "source": [
    "data = df.where((pd.notnull(df)),'')"
   ]
  },
  {
   "cell_type": "code",
   "execution_count": 6,
   "id": "3b6c926c-09a9-4a3d-8648-4d55d137643c",
   "metadata": {},
   "outputs": [
    {
     "data": {
      "text/html": [
       "<div>\n",
       "<style scoped>\n",
       "    .dataframe tbody tr th:only-of-type {\n",
       "        vertical-align: middle;\n",
       "    }\n",
       "\n",
       "    .dataframe tbody tr th {\n",
       "        vertical-align: top;\n",
       "    }\n",
       "\n",
       "    .dataframe thead th {\n",
       "        text-align: right;\n",
       "    }\n",
       "</style>\n",
       "<table border=\"1\" class=\"dataframe\">\n",
       "  <thead>\n",
       "    <tr style=\"text-align: right;\">\n",
       "      <th></th>\n",
       "      <th>Category</th>\n",
       "      <th>Message</th>\n",
       "    </tr>\n",
       "  </thead>\n",
       "  <tbody>\n",
       "    <tr>\n",
       "      <th>0</th>\n",
       "      <td>ham</td>\n",
       "      <td>Go until jurong point, crazy.. Available only ...</td>\n",
       "    </tr>\n",
       "    <tr>\n",
       "      <th>1</th>\n",
       "      <td>ham</td>\n",
       "      <td>Ok lar... Joking wif u oni...</td>\n",
       "    </tr>\n",
       "    <tr>\n",
       "      <th>2</th>\n",
       "      <td>spam</td>\n",
       "      <td>Free entry in 2 a wkly comp to win FA Cup fina...</td>\n",
       "    </tr>\n",
       "    <tr>\n",
       "      <th>3</th>\n",
       "      <td>ham</td>\n",
       "      <td>U dun say so early hor... U c already then say...</td>\n",
       "    </tr>\n",
       "    <tr>\n",
       "      <th>4</th>\n",
       "      <td>ham</td>\n",
       "      <td>Nah I don't think he goes to usf, he lives aro...</td>\n",
       "    </tr>\n",
       "  </tbody>\n",
       "</table>\n",
       "</div>"
      ],
      "text/plain": [
       "  Category                                            Message\n",
       "0      ham  Go until jurong point, crazy.. Available only ...\n",
       "1      ham                      Ok lar... Joking wif u oni...\n",
       "2     spam  Free entry in 2 a wkly comp to win FA Cup fina...\n",
       "3      ham  U dun say so early hor... U c already then say...\n",
       "4      ham  Nah I don't think he goes to usf, he lives aro..."
      ]
     },
     "execution_count": 6,
     "metadata": {},
     "output_type": "execute_result"
    }
   ],
   "source": [
    "data.head()"
   ]
  },
  {
   "cell_type": "code",
   "execution_count": 7,
   "id": "baf54b8e-bb15-4ce1-ae01-8a841ff1bdfc",
   "metadata": {},
   "outputs": [],
   "source": [
    "data.loc[data['Category'] == 'spam', 'Category',] = 0\n",
    "data.loc[data['Category'] == 'ham', 'Category',] = 1"
   ]
  },
  {
   "cell_type": "code",
   "execution_count": 8,
   "id": "66d7d742-e3f3-46f9-97de-55bc31c7c58c",
   "metadata": {},
   "outputs": [],
   "source": [
    "X = data['Message']\n",
    "Y = data['Category']\n"
   ]
  },
  {
   "cell_type": "code",
   "execution_count": 10,
   "id": "976cc306-37a1-451c-becc-25050fb90537",
   "metadata": {},
   "outputs": [
    {
     "name": "stdout",
     "output_type": "stream",
     "text": [
      "0       Go until jurong point, crazy.. Available only ...\n",
      "1                           Ok lar... Joking wif u oni...\n",
      "2       Free entry in 2 a wkly comp to win FA Cup fina...\n",
      "3       U dun say so early hor... U c already then say...\n",
      "4       Nah I don't think he goes to usf, he lives aro...\n",
      "                              ...                        \n",
      "5567    This is the 2nd time we have tried 2 contact u...\n",
      "5568                 Will ü b going to esplanade fr home?\n",
      "5569    Pity, * was in mood for that. So...any other s...\n",
      "5570    The guy did some bitching but I acted like i'd...\n",
      "5571                           Rofl. Its true to its name\n",
      "Name: Message, Length: 5572, dtype: object\n"
     ]
    }
   ],
   "source": [
    "print(X)"
   ]
  },
  {
   "cell_type": "code",
   "execution_count": 11,
   "id": "a7b0b5f5-82aa-4dc0-895e-357fee20870c",
   "metadata": {},
   "outputs": [
    {
     "name": "stdout",
     "output_type": "stream",
     "text": [
      "0       1\n",
      "1       1\n",
      "2       0\n",
      "3       1\n",
      "4       1\n",
      "       ..\n",
      "5567    0\n",
      "5568    1\n",
      "5569    1\n",
      "5570    1\n",
      "5571    1\n",
      "Name: Category, Length: 5572, dtype: object\n"
     ]
    }
   ],
   "source": [
    "print(Y)"
   ]
  },
  {
   "cell_type": "code",
   "execution_count": 12,
   "id": "b2c27d21-711d-4917-b5df-1597a216956e",
   "metadata": {},
   "outputs": [],
   "source": [
    "X_train, X_test, Y_train, Y_test = train_test_split(X,Y,test_size= 0.2, random_state = 3)"
   ]
  },
  {
   "cell_type": "code",
   "execution_count": 13,
   "id": "ac28af47-b80c-42c8-8ad8-fd601df31fca",
   "metadata": {},
   "outputs": [
    {
     "name": "stdout",
     "output_type": "stream",
     "text": [
      "(5572,)\n",
      "(4457,)\n",
      "(1115,)\n"
     ]
    }
   ],
   "source": [
    "print(X.shape)\n",
    "print(X_train.shape)\n",
    "print(X_test.shape)"
   ]
  },
  {
   "cell_type": "code",
   "execution_count": 15,
   "id": "f79a2f63-df2e-42ca-bf1b-a5ceb05e8d6a",
   "metadata": {},
   "outputs": [],
   "source": [
    "feature_extraction = TfidfVectorizer(min_df = 1, stop_words = 'english', lowercase=True)\n",
    "X_train_features = feature_extraction.fit_transform(X_train)\n",
    "X_test_features = feature_extraction.transform(X_test)\n",
    "\n",
    "Y_train = Y_train.astype('int')\n",
    "Y_test = Y_test.astype('int')"
   ]
  },
  {
   "cell_type": "code",
   "execution_count": 16,
   "id": "5e6eeb3a-0077-4023-a953-b3cadaa766ce",
   "metadata": {},
   "outputs": [
    {
     "name": "stdout",
     "output_type": "stream",
     "text": [
      "3075                  Don know. I did't msg him recently.\n",
      "1787    Do you know why god created gap between your f...\n",
      "1614                         Thnx dude. u guys out 2nite?\n",
      "4304                                      Yup i'm free...\n",
      "3266    44 7732584351, Do you want a New Nokia 3510i c...\n",
      "                              ...                        \n",
      "789     5 Free Top Polyphonic Tones call 087018728737,...\n",
      "968     What do u want when i come back?.a beautiful n...\n",
      "1667    Guess who spent all last night phasing in and ...\n",
      "3321    Eh sorry leh... I din c ur msg. Not sad alread...\n",
      "1688    Free Top ringtone -sub to weekly ringtone-get ...\n",
      "Name: Message, Length: 4457, dtype: object\n"
     ]
    }
   ],
   "source": [
    "print(X_train)"
   ]
  },
  {
   "cell_type": "code",
   "execution_count": 17,
   "id": "fcc204bc-a512-470f-9d83-5ab9d28d9e71",
   "metadata": {},
   "outputs": [
    {
     "name": "stdout",
     "output_type": "stream",
     "text": [
      "  (0, 5413)\t0.6198254967574347\n",
      "  (0, 4456)\t0.4168658090846482\n",
      "  (0, 2224)\t0.413103377943378\n",
      "  (0, 3811)\t0.34780165336891333\n",
      "  (0, 2329)\t0.38783870336935383\n",
      "  (1, 4080)\t0.18880584110891163\n",
      "  (1, 3185)\t0.29694482957694585\n",
      "  (1, 3325)\t0.31610586766078863\n",
      "  (1, 2957)\t0.3398297002864083\n",
      "  (1, 2746)\t0.3398297002864083\n",
      "  (1, 918)\t0.22871581159877646\n",
      "  (1, 1839)\t0.2784903590561455\n",
      "  (1, 2758)\t0.3226407885943799\n",
      "  (1, 2956)\t0.33036995955537024\n",
      "  (1, 1991)\t0.33036995955537024\n",
      "  (1, 3046)\t0.2503712792613518\n",
      "  (1, 3811)\t0.17419952275504033\n",
      "  (2, 407)\t0.509272536051008\n",
      "  (2, 3156)\t0.4107239318312698\n",
      "  (2, 2404)\t0.45287711070606745\n",
      "  (2, 6601)\t0.6056811524587518\n",
      "  (3, 2870)\t0.5864269879324768\n",
      "  (3, 7414)\t0.8100020912469564\n",
      "  (4, 50)\t0.23633754072626942\n",
      "  (4, 5497)\t0.15743785051118356\n",
      "  :\t:\n",
      "  (4454, 4602)\t0.2669765732445391\n",
      "  (4454, 3142)\t0.32014451677763156\n",
      "  (4455, 2247)\t0.37052851863170466\n",
      "  (4455, 2469)\t0.35441545511837946\n",
      "  (4455, 5646)\t0.33545678464631296\n",
      "  (4455, 6810)\t0.29731757715898277\n",
      "  (4455, 6091)\t0.23103841516927642\n",
      "  (4455, 7113)\t0.30536590342067704\n",
      "  (4455, 3872)\t0.3108911491788658\n",
      "  (4455, 4715)\t0.30714144758811196\n",
      "  (4455, 6916)\t0.19636985317119715\n",
      "  (4455, 3922)\t0.31287563163368587\n",
      "  (4455, 4456)\t0.24920025316220423\n",
      "  (4456, 141)\t0.292943737785358\n",
      "  (4456, 647)\t0.30133182431707617\n",
      "  (4456, 6311)\t0.30133182431707617\n",
      "  (4456, 5569)\t0.4619395404299172\n",
      "  (4456, 6028)\t0.21034888000987115\n",
      "  (4456, 7154)\t0.24083218452280053\n",
      "  (4456, 7150)\t0.3677554681447669\n",
      "  (4456, 6249)\t0.17573831794959716\n",
      "  (4456, 6307)\t0.2752760476857975\n",
      "  (4456, 334)\t0.2220077711654938\n",
      "  (4456, 5778)\t0.16243064490100795\n",
      "  (4456, 2870)\t0.31523196273113385\n"
     ]
    }
   ],
   "source": [
    "print(X_train_features)"
   ]
  },
  {
   "cell_type": "code",
   "execution_count": 19,
   "id": "91ef9c6a-d35f-45e1-a7e0-16ca74fab597",
   "metadata": {},
   "outputs": [],
   "source": [
    "model = LogisticRegression()"
   ]
  },
  {
   "cell_type": "code",
   "execution_count": 20,
   "id": "f829da2e-7eb6-436d-800b-bd7c0bf3693c",
   "metadata": {},
   "outputs": [
    {
     "data": {
      "text/html": [
       "<style>#sk-container-id-1 {color: black;}#sk-container-id-1 pre{padding: 0;}#sk-container-id-1 div.sk-toggleable {background-color: white;}#sk-container-id-1 label.sk-toggleable__label {cursor: pointer;display: block;width: 100%;margin-bottom: 0;padding: 0.3em;box-sizing: border-box;text-align: center;}#sk-container-id-1 label.sk-toggleable__label-arrow:before {content: \"▸\";float: left;margin-right: 0.25em;color: #696969;}#sk-container-id-1 label.sk-toggleable__label-arrow:hover:before {color: black;}#sk-container-id-1 div.sk-estimator:hover label.sk-toggleable__label-arrow:before {color: black;}#sk-container-id-1 div.sk-toggleable__content {max-height: 0;max-width: 0;overflow: hidden;text-align: left;background-color: #f0f8ff;}#sk-container-id-1 div.sk-toggleable__content pre {margin: 0.2em;color: black;border-radius: 0.25em;background-color: #f0f8ff;}#sk-container-id-1 input.sk-toggleable__control:checked~div.sk-toggleable__content {max-height: 200px;max-width: 100%;overflow: auto;}#sk-container-id-1 input.sk-toggleable__control:checked~label.sk-toggleable__label-arrow:before {content: \"▾\";}#sk-container-id-1 div.sk-estimator input.sk-toggleable__control:checked~label.sk-toggleable__label {background-color: #d4ebff;}#sk-container-id-1 div.sk-label input.sk-toggleable__control:checked~label.sk-toggleable__label {background-color: #d4ebff;}#sk-container-id-1 input.sk-hidden--visually {border: 0;clip: rect(1px 1px 1px 1px);clip: rect(1px, 1px, 1px, 1px);height: 1px;margin: -1px;overflow: hidden;padding: 0;position: absolute;width: 1px;}#sk-container-id-1 div.sk-estimator {font-family: monospace;background-color: #f0f8ff;border: 1px dotted black;border-radius: 0.25em;box-sizing: border-box;margin-bottom: 0.5em;}#sk-container-id-1 div.sk-estimator:hover {background-color: #d4ebff;}#sk-container-id-1 div.sk-parallel-item::after {content: \"\";width: 100%;border-bottom: 1px solid gray;flex-grow: 1;}#sk-container-id-1 div.sk-label:hover label.sk-toggleable__label {background-color: #d4ebff;}#sk-container-id-1 div.sk-serial::before {content: \"\";position: absolute;border-left: 1px solid gray;box-sizing: border-box;top: 0;bottom: 0;left: 50%;z-index: 0;}#sk-container-id-1 div.sk-serial {display: flex;flex-direction: column;align-items: center;background-color: white;padding-right: 0.2em;padding-left: 0.2em;position: relative;}#sk-container-id-1 div.sk-item {position: relative;z-index: 1;}#sk-container-id-1 div.sk-parallel {display: flex;align-items: stretch;justify-content: center;background-color: white;position: relative;}#sk-container-id-1 div.sk-item::before, #sk-container-id-1 div.sk-parallel-item::before {content: \"\";position: absolute;border-left: 1px solid gray;box-sizing: border-box;top: 0;bottom: 0;left: 50%;z-index: -1;}#sk-container-id-1 div.sk-parallel-item {display: flex;flex-direction: column;z-index: 1;position: relative;background-color: white;}#sk-container-id-1 div.sk-parallel-item:first-child::after {align-self: flex-end;width: 50%;}#sk-container-id-1 div.sk-parallel-item:last-child::after {align-self: flex-start;width: 50%;}#sk-container-id-1 div.sk-parallel-item:only-child::after {width: 0;}#sk-container-id-1 div.sk-dashed-wrapped {border: 1px dashed gray;margin: 0 0.4em 0.5em 0.4em;box-sizing: border-box;padding-bottom: 0.4em;background-color: white;}#sk-container-id-1 div.sk-label label {font-family: monospace;font-weight: bold;display: inline-block;line-height: 1.2em;}#sk-container-id-1 div.sk-label-container {text-align: center;}#sk-container-id-1 div.sk-container {/* jupyter's `normalize.less` sets `[hidden] { display: none; }` but bootstrap.min.css set `[hidden] { display: none !important; }` so we also need the `!important` here to be able to override the default hidden behavior on the sphinx rendered scikit-learn.org. See: https://github.com/scikit-learn/scikit-learn/issues/21755 */display: inline-block !important;position: relative;}#sk-container-id-1 div.sk-text-repr-fallback {display: none;}</style><div id=\"sk-container-id-1\" class=\"sk-top-container\"><div class=\"sk-text-repr-fallback\"><pre>LogisticRegression()</pre><b>In a Jupyter environment, please rerun this cell to show the HTML representation or trust the notebook. <br />On GitHub, the HTML representation is unable to render, please try loading this page with nbviewer.org.</b></div><div class=\"sk-container\" hidden><div class=\"sk-item\"><div class=\"sk-estimator sk-toggleable\"><input class=\"sk-toggleable__control sk-hidden--visually\" id=\"sk-estimator-id-1\" type=\"checkbox\" checked><label for=\"sk-estimator-id-1\" class=\"sk-toggleable__label sk-toggleable__label-arrow\">LogisticRegression</label><div class=\"sk-toggleable__content\"><pre>LogisticRegression()</pre></div></div></div></div></div>"
      ],
      "text/plain": [
       "LogisticRegression()"
      ]
     },
     "execution_count": 20,
     "metadata": {},
     "output_type": "execute_result"
    }
   ],
   "source": [
    "model.fit(X_train_features,Y_train)"
   ]
  },
  {
   "cell_type": "code",
   "execution_count": 21,
   "id": "06547e39-036e-4598-8875-fe7b1b347ee1",
   "metadata": {},
   "outputs": [],
   "source": [
    "prediction_on_training_data = model.predict(X_train_features)\n",
    "accuracy_on_training_data = accuracy_score(Y_train,prediction_on_training_data)"
   ]
  },
  {
   "cell_type": "code",
   "execution_count": 22,
   "id": "6b8b71b5-4035-4b5a-8700-ddab2907e586",
   "metadata": {},
   "outputs": [
    {
     "name": "stdout",
     "output_type": "stream",
     "text": [
      "Acc on training data : 0.9670181736594121\n"
     ]
    }
   ],
   "source": [
    "print(\"Acc on training data :\", accuracy_on_training_data)"
   ]
  },
  {
   "cell_type": "code",
   "execution_count": 24,
   "id": "af77b126-05e4-4a10-93ad-8ac8f65828a3",
   "metadata": {},
   "outputs": [],
   "source": [
    "prediction_on_test_data = model.predict(X_test_features)\n",
    "accuracy_on_test_data = accuracy_score(Y_test, prediction_on_test_data)\n"
   ]
  },
  {
   "cell_type": "code",
   "execution_count": 26,
   "id": "1f0a1ff9-0d37-499e-9a00-50e16e9025ff",
   "metadata": {},
   "outputs": [
    {
     "name": "stdout",
     "output_type": "stream",
     "text": [
      "acc on test data: 0.9659192825112107\n"
     ]
    }
   ],
   "source": [
    "print(\"acc on test data:\", accuracy_on_test_data)"
   ]
  },
  {
   "cell_type": "code",
   "execution_count": 28,
   "id": "38214baf-aa78-469a-8a2e-26e4ac16d3b2",
   "metadata": {},
   "outputs": [
    {
     "name": "stdout",
     "output_type": "stream",
     "text": [
      "[1]\n",
      "Ham mail\n"
     ]
    }
   ],
   "source": [
    "input_your_mail = [\"hello! how are you?\"]\n",
    "\n",
    "input_data_features = feature_extraction.transform(input_your_mail)\n",
    "\n",
    "prediction = model.predict(input_data_features)\n",
    "\n",
    "print(prediction)\n",
    "\n",
    "if(prediction[0]==1):\n",
    "    print(\"Ham mail\")\n",
    "else:\n",
    "    print(\"Spam mail\")\n"
   ]
  },
  {
   "cell_type": "code",
   "execution_count": null,
   "id": "6753918a-930d-4601-bd11-5c230220f3cf",
   "metadata": {},
   "outputs": [],
   "source": []
  }
 ],
 "metadata": {
  "kernelspec": {
   "display_name": "Python 3 (ipykernel)",
   "language": "python",
   "name": "python3"
  },
  "language_info": {
   "codemirror_mode": {
    "name": "ipython",
    "version": 3
   },
   "file_extension": ".py",
   "mimetype": "text/x-python",
   "name": "python",
   "nbconvert_exporter": "python",
   "pygments_lexer": "ipython3",
   "version": "3.11.4"
  }
 },
 "nbformat": 4,
 "nbformat_minor": 5
}
